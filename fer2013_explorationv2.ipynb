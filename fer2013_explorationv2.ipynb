{
 "cells": [
  {
   "cell_type": "code",
   "execution_count": 1,
   "metadata": {},
   "outputs": [],
   "source": [
    "import numpy as np\n",
    "import torchvision\n",
    "from torchvision import transforms\n",
    "from torch.utils.data import DataLoader\n",
    "from torch.utils.data import Subset\n",
    "from torch.utils.data import random_split\n",
    "from torchvision import datasets\n",
    "import torch\n",
    "import torch.nn as nn\n",
    "import torch.nn.functional as F\n",
    "from matplotlib import pyplot as plt\n",
    "from PIL import Image\n",
    "import os\n",
    "from sklearn import preprocessing\n",
    "from sklearn.model_selection import train_test_split\n",
    "from sklearn.model_selection import StratifiedKFold\n",
    "\n",
    "\n",
    "import torch.nn as nn\n",
    "import torch.nn.functional as F\n",
    "from torch.utils.data import Dataset\n",
    "import torch.optim as optim\n",
    "from torchvision import transforms\n",
    "import datetime"
   ]
  },
  {
   "cell_type": "code",
   "execution_count": null,
   "metadata": {},
   "outputs": [],
   "source": []
  },
  {
   "cell_type": "code",
   "execution_count": 2,
   "metadata": {},
   "outputs": [],
   "source": [
    "X_train = np.load(r\"C:\\Users\\bches\\Classes\\Spring_2021\\Pattern_Recognition\\Project\\datasets\\FER2013\\train\\X_train.npy\")\n",
    "y_train = np.load(r\"C:\\Users\\bches\\Classes\\Spring_2021\\Pattern_Recognition\\Project\\datasets\\FER2013\\train\\y_train.npy\")\n",
    "X_val = np.load(r\"C:\\Users\\bches\\Classes\\Spring_2021\\Pattern_Recognition\\Project\\datasets\\FER2013\\train\\X_val.npy\")\n",
    "y_val = np.load(r\"C:\\Users\\bches\\Classes\\Spring_2021\\Pattern_Recognition\\Project\\datasets\\FER2013\\train\\y_val.npy\")"
   ]
  },
  {
   "cell_type": "code",
   "execution_count": null,
   "metadata": {},
   "outputs": [],
   "source": []
  },
  {
   "cell_type": "code",
   "execution_count": 3,
   "metadata": {},
   "outputs": [
    {
     "data": {
      "text/plain": [
       "((22967, 48, 48),\n",
       " (22967,),\n",
       " (5742, 48, 48),\n",
       " (5742,),\n",
       " (array([0, 1, 2, 3, 4, 5, 6]),\n",
       "  array([3187,  345, 3265, 5783, 3927, 3887, 2573], dtype=int64)),\n",
       " (array([0, 1, 2, 3, 4, 5, 6]),\n",
       "  array([ 808,   91,  832, 1432, 1038,  943,  598], dtype=int64)))"
      ]
     },
     "execution_count": 3,
     "metadata": {},
     "output_type": "execute_result"
    }
   ],
   "source": [
    "X_train.shape, y_train.shape, X_val.shape, y_val.shape, np.unique(y_train, return_counts=True), np.unique(y_val, return_counts=True)"
   ]
  },
  {
   "cell_type": "code",
   "execution_count": 6,
   "metadata": {},
   "outputs": [
    {
     "data": {
      "text/plain": [
       "<matplotlib.image.AxesImage at 0x1efa90486a0>"
      ]
     },
     "execution_count": 6,
     "metadata": {},
     "output_type": "execute_result"
    },
    {
     "data": {
      "image/png": "[encoded data removed]",
      "text/plain": [
       "<Figure size 432x288 with 1 Axes>"
      ]
     },
     "metadata": {
      "needs_background": "light"
     },
     "output_type": "display_data"
    }
   ],
   "source": [
    "plt.imshow(X_train[50], cmap = 'gray')\n"
   ]
  },
  {
   "cell_type": "code",
   "execution_count": 13,
   "metadata": {},
   "outputs": [
    {
     "data": {
      "text/plain": [
       "(torch.Size([22967, 48, 48]),\n",
       " <function Tensor.type>,\n",
       " torch.Size([22967]),\n",
       " torch.Size([5742, 48, 48]))"
      ]
     },
     "execution_count": 13,
     "metadata": {},
     "output_type": "execute_result"
    }
   ],
   "source": [
    "#convert data from numpy to tensors\n",
    "X_train_t = torch.tensor(X_train.tolist(), dtype=torch.float32)/255\n",
    "y_train_t = torch.tensor(y_train.tolist(), dtype=torch.long)\n",
    "X_val_t = torch.tensor(X_val.tolist(), dtype=torch.float32)/255\n",
    "y_val_t = torch.tensor(y_val.tolist(), dtype=torch.long)\n",
    "\n",
    "\n",
    "X_train_t.type(torch.float32)\n",
    "y_train_t.type(torch.float32)\n",
    "X_val_t.type(torch.float32)\n",
    "y_val_t.type(torch.float32)\n",
    "\n",
    "X_train_t.shape, X_train_t.type, y_train_t.shape, X_val_t.shape"
   ]
  },
  {
   "cell_type": "code",
   "execution_count": 8,
   "metadata": {},
   "outputs": [
    {
     "data": {
      "text/plain": [
       "(torch.Size([22967, 1, 48, 48]),\n",
       " torch.Size([5742, 1, 48, 48]),\n",
       " <function Tensor.type>)"
      ]
     },
     "execution_count": 8,
     "metadata": {},
     "output_type": "execute_result"
    }
   ],
   "source": [
    "#pytorch tensors require N X C X H X W \n",
    "X_train_t = X_train_t.unsqueeze(1).contiguous()\n",
    "X_val_t = X_val_t.unsqueeze(1).contiguous()\n",
    "\n",
    "X_train_t.shape, X_val_t.shape, y_train_t[0].type"
   ]
  },
  {
   "cell_type": "code",
   "execution_count": 9,
   "metadata": {},
   "outputs": [
    {
     "data": {
      "text/plain": [
       "(torch.Size([22967]), tensor([2, 3, 3,  ..., 3, 5, 0]))"
      ]
     },
     "execution_count": 9,
     "metadata": {},
     "output_type": "execute_result"
    }
   ],
   "source": [
    "y_train_t.shape, y_train_t"
   ]
  },
  {
   "cell_type": "code",
   "execution_count": 10,
   "metadata": {},
   "outputs": [
    {
     "data": {
      "text/plain": [
       "(tensor(0.),\n",
       " tensor(1.),\n",
       " tensor(0.),\n",
       " tensor(1.),\n",
       " tensor(0),\n",
       " tensor(6),\n",
       " tensor(0),\n",
       " tensor(6))"
      ]
     },
     "execution_count": 10,
     "metadata": {},
     "output_type": "execute_result"
    }
   ],
   "source": [
    "X_train_t.min(), X_train_t.max(), X_val_t.min(), X_val_t.max(), y_train_t.min(), y_train_t.max(), y_val_t.min(), y_val_t.max() #double check to make sure min is 0 and max is 1 "
   ]
  },
  {
   "cell_type": "code",
   "execution_count": 11,
   "metadata": {},
   "outputs": [
    {
     "data": {
      "text/plain": [
       "(tensor([0.5076]), tensor([0.2548]))"
      ]
     },
     "execution_count": 11,
     "metadata": {},
     "output_type": "execute_result"
    }
   ],
   "source": [
    "X_train_t.view(1,-1).mean(dim=1), X_train_t.view(1,-1).std(dim=1) #check mean and std deviation values"
   ]
  },
  {
   "cell_type": "code",
   "execution_count": 12,
   "metadata": {},
   "outputs": [
    {
     "name": "stdout",
     "output_type": "stream",
     "text": [
      "tensor([0.5076]) tensor([0.2548])\n"
     ]
    }
   ],
   "source": [
    "train_mean = X_train_t.view(1,-1).mean(dim=1)\n",
    "train_std = X_train_t.view(1,-1).std(dim=1)\n",
    "\n",
    "\n",
    "print(train_mean, train_std)\n",
    "\n",
    "val_mean = X_val_t.view(1,-1).mean(dim=1)\n",
    "val_std = X_val_t.view(1,-1).std(dim=1)"
   ]
  },
  {
   "cell_type": "code",
   "execution_count": 24,
   "metadata": {},
   "outputs": [],
   "source": [
    "train_transform = torchvision.transforms.Compose([\n",
    "            #torchvision.ToPILImage(), #need this to do data augmentation, only accepts PIL images\n",
    "            #torchvision.transforms.Resize(48), #48 is FER2013 size\n",
    "            #torchvision.transforms.ToTensor(),\n",
    "            transforms.Normalize(mean=train_mean, std=train_std)\n",
    "])\n",
    "\n",
    "val_transform = torchvision.transforms.Compose([\n",
    "            #torchvision.ToPILImage(), #need this to do data augmentation, only accepts PIL images\n",
    "            #torchvision.transforms.Resize(48), #48 is FER2013 size\n",
    "            #torchvision.transforms.ToTensor(),\n",
    "            transforms.Normalize(mean=train_mean, std=train_std)\n",
    "])\n",
    "\n",
    "val_transform_test = torchvision.transforms.Compose([\n",
    "            #torchvision.ToPILImage(), #need this to do data augmentation, only accepts PIL images\n",
    "            #torchvision.transforms.Resize(48), #48 is FER2013 size\n",
    "            #torchvision.transforms.ToTensor(),\n",
    "            transforms.Normalize(mean=val_mean, std=val_std)\n",
    "])"
   ]
  },
  {
   "cell_type": "code",
   "execution_count": 13,
   "metadata": {},
   "outputs": [],
   "source": [
    "#data set class definition\n",
    "\n",
    "class my_dataset(Dataset):\n",
    "    def __init__(self, X, y, transform = None):\n",
    "        self.data = X\n",
    "        self.target = y\n",
    "        self.transform = transform\n",
    "        \n",
    "        if torch.cuda.is_available():\n",
    "            print(\"Data placed in GPU memory\")\n",
    "            self.data = self.data.cuda()\n",
    "            self.target = self.target.cuda()\n",
    "            \n",
    "    def __getitem__(self, index):\n",
    "        x = self.data[index]\n",
    "        y = self.target[index]\n",
    "        if self.transform:\n",
    "            x = self.transform(x)\n",
    "        \n",
    "        if torch.cuda.is_available():\n",
    "            return x.cuda(), y.cuda()\n",
    "        \n",
    "        return x,y\n",
    "        \n",
    "    def __len__(self):\n",
    "        return len(self.data)\n",
    "    "
   ]
  },
  {
   "cell_type": "code",
   "execution_count": 14,
   "metadata": {},
   "outputs": [],
   "source": [
    "num_classes = 7\n",
    "\n",
    "class baseline_net(nn.Module):\n",
    "    def __init__(self):\n",
    "        super().__init__()\n",
    "        self.use_cuda = torch.cuda.is_available()\n",
    "        self.device = torch.device(\"cuda\" if self.use_cuda else \"cpu\")\n",
    "        print(\"model device:\", self.device)\n",
    "        \n",
    "        self.conv1 = nn.Conv2d(1, 10, kernel_size = 3, padding = 1) \n",
    "        self.conv2 = nn.Conv2d(10, 32, kernel_size = 3, padding = 1) \n",
    "\n",
    "        self.fc1 = nn.Linear(32*12*12, 100)\n",
    "\n",
    "        self.fc2 = nn.Linear(100, num_classes) \n",
    "\n",
    "\n",
    "        \n",
    "    def forward(self, x):\n",
    "        out = F.max_pool2d(F.relu(self.conv1(x)), kernel_size=2) #kernel of 2 for max pool\n",
    "        out = F.max_pool2d(F.relu(self.conv2(out)), 2)\n",
    "        out = out.view(-1, 32*12*12)\n",
    "        out = F.relu(self.fc1(out))\n",
    "        out = self.fc2(out)\n",
    "        return out"
   ]
  },
  {
   "cell_type": "code",
   "execution_count": 15,
   "metadata": {},
   "outputs": [],
   "source": [
    "num_classes = 7\n",
    "\n",
    "class baseline_net_dp(nn.Module):\n",
    "    def __init__(self):\n",
    "        super().__init__()\n",
    "        self.use_cuda = torch.cuda.is_available()\n",
    "        self.device = torch.device(\"cuda\" if self.use_cuda else \"cpu\")\n",
    "        print(\"model device:\", self.device)\n",
    "        \n",
    "        self.conv1 = nn.Conv2d(1, 10, kernel_size = 3, padding = 1) \n",
    "        self.dp1 = nn.Dropout2d(p=0.4)\n",
    "        self.conv2 = nn.Conv2d(10, 32, kernel_size = 3, padding = 1) \n",
    "        self.dp2 = nn.Dropout2d(p=0.4)\n",
    "        self.fc1 = nn.Linear(32*12*12, 100)\n",
    "\n",
    "        self.fc2 = nn.Linear(100, num_classes) \n",
    "\n",
    "\n",
    "        \n",
    "    def forward(self, x):\n",
    "        out = F.max_pool2d(F.relu(self.conv1(x)), kernel_size=2) #kernel of 2 for max pool\n",
    "        out = self.dp1(out)\n",
    "        out = F.max_pool2d(F.relu(self.conv2(out)), 2)\n",
    "        out = self.dp2(out)\n",
    "        out = out.view(-1, 32*12*12)\n",
    "        out = F.relu(self.fc1(out))\n",
    "        out = self.fc2(out)\n",
    "        return out"
   ]
  },
  {
   "cell_type": "code",
   "execution_count": 16,
   "metadata": {},
   "outputs": [],
   "source": [
    "num_classes = 7\n",
    "\n",
    "class baseline_net_deep(nn.Module):\n",
    "    def __init__(self):\n",
    "        super().__init__()\n",
    "        self.use_cuda = torch.cuda.is_available()\n",
    "        self.device = torch.device(\"cuda\" if self.use_cuda else \"cpu\")\n",
    "        print(\"model device:\", self.device)\n",
    "        \n",
    "        self.conv1 = nn.Conv2d(1, 10, kernel_size = 3, padding = 1) \n",
    "        self.dp1 = nn.Dropout2d(p=0.4)\n",
    "        self.conv2 = nn.Conv2d(10, 32, kernel_size = 3, padding = 1) \n",
    "        self.dp2 = nn.Dropout2d(p=0.4)\n",
    "        \n",
    "        self.conv3 = nn.Conv2d(32, 64, kernel_size = 3, padding = 1) \n",
    "        self.dp3 = nn.Dropout2d(p=0.4)\n",
    "        self.conv4 = nn.Conv2d(64, 128, kernel_size = 3, padding = 1) \n",
    "        self.dp4 = nn.Dropout2d(p=0.4)\n",
    "        \n",
    "        \n",
    "        self.fc1 = nn.Linear(128*3*3, 100)\n",
    "\n",
    "        self.fc2 = nn.Linear(100, num_classes) \n",
    "\n",
    "\n",
    "        \n",
    "    def forward(self, x):\n",
    "        out = F.max_pool2d(F.relu(self.conv1(x)), kernel_size=2) #kernel of 2 for max pool\n",
    "        out = self.dp1(out)\n",
    "        out = F.max_pool2d(F.relu(self.conv2(out)), 2)\n",
    "        out = self.dp2(out)\n",
    "        out = F.max_pool2d(F.relu(self.conv3(out)), kernel_size=2) #kernel of 2 for max pool\n",
    "        out = self.dp3(out)\n",
    "        out = F.max_pool2d(F.relu(self.conv4(out)), 2)\n",
    "        out = self.dp4(out)\n",
    "        out = out.view(-1, 128*3*3)\n",
    "        out = F.relu(self.fc1(out))\n",
    "        out = self.fc2(out)\n",
    "        return out"
   ]
  },
  {
   "cell_type": "code",
   "execution_count": 17,
   "metadata": {},
   "outputs": [],
   "source": [
    "num_classes = 7\n",
    "\n",
    "class baseline_net_bn(nn.Module):\n",
    "    def __init__(self):\n",
    "        super().__init__()\n",
    "        self.use_cuda = torch.cuda.is_available()\n",
    "        self.device = torch.device(\"cuda\" if self.use_cuda else \"cpu\")\n",
    "        print(\"model device:\", self.device)\n",
    "        \n",
    "        self.conv1 = nn.Conv2d(1, 10, kernel_size = 3, padding = 1) \n",
    "        self.bn1 = nn.BatchNorm2d(num_features = 10)\n",
    "        self.conv2 = nn.Conv2d(10, 32, kernel_size = 3, padding = 1) \n",
    "        self.bn2 = nn.BatchNorm2d(num_features = 32)\n",
    "\n",
    "        self.conv3 = nn.Conv2d(32, 64, kernel_size = 3, padding = 1) \n",
    "        self.bn3 = nn.BatchNorm2d(num_features = 64)\n",
    "        self.conv4 = nn.Conv2d(64, 128, kernel_size = 3, padding = 1)         \n",
    "        self.bn4 = nn.BatchNorm2d(num_features = 128)\n",
    "\n",
    "        self.fc1 = nn.Linear(128*3*3, 100)\n",
    "\n",
    "        self.fc2 = nn.Linear(100, num_classes) \n",
    "\n",
    "\n",
    "        \n",
    "    def forward(self, x):\n",
    "        out = self.bn1(self.conv1(x))\n",
    "        out = F.max_pool2d(F.relu(out), kernel_size=2) #kernel of 2 for max pool\n",
    "        out = self.bn2(self.conv2(out))\n",
    "        out = F.max_pool2d(F.relu(out), 2)\n",
    "        out = self.bn3(self.conv3(out))\n",
    "        out = F.max_pool2d(F.relu(out), kernel_size=2) #kernel of 2 for max pool\n",
    "        out = self.bn4(self.conv4(out))\n",
    "        out = F.max_pool2d(F.relu(out), 2)\n",
    "        out = out.view(-1, 128*3*3)\n",
    "        out = F.relu(self.fc1(out))\n",
    "        out = self.fc2(out)\n",
    "        return out"
   ]
  },
  {
   "cell_type": "code",
   "execution_count": 18,
   "metadata": {},
   "outputs": [],
   "source": [
    "train_errors = []\n",
    "val_errors = []\n",
    "#val_loader = torch.utils.data.DataLoader(val_dataset, batch_size = 32, shuffle=True)\n",
    "\n",
    "def training_loop(n_epochs, optimizer, model, loss_fn, train_loader, val_loader):\n",
    "    patience = 50 #50 epoch patience for early stopping\n",
    "    if model.use_cuda:\n",
    "      if(torch.cuda.device_count() > 1):\n",
    "        print(\"Using data parallel for training model\")\n",
    "        model = nn.DataParallel(model)\n",
    "      model = model.to(model.device)\n",
    "    for epoch in range(1, n_epochs+1):\n",
    "        \n",
    "        loss_train = 0.0\n",
    "        val_loss = 0.0\n",
    "        correct_train = 0\n",
    "        total_train = 0\n",
    "        model.train()\n",
    "        for imgs, labels in train_loader:\n",
    "            #print(imgs.shape, labels.shape)\n",
    "            #print(imgs)\n",
    "            outputs = model(imgs)\n",
    "            #print(outputs, labels)\n",
    "\n",
    "            loss = loss_fn(outputs, labels)\n",
    "            \n",
    "            optimizer.zero_grad()\n",
    "            loss.backward()\n",
    "            optimizer.step()\n",
    "            \n",
    "            loss_train += loss.item()\n",
    "            #print(outputs)\n",
    "            _, pred1 = torch.max(outputs, dim=1)\n",
    "            #print(pred1)\n",
    "            #print(torch.max(outputs,dim=1))\n",
    "            total_train += labels.shape[0]\n",
    "            correct_train += (pred1==labels).sum()\n",
    "            #train_acc = 100*correct_train/total_train\n",
    "            \n",
    "        train_errors.append(loss_train)\n",
    "        \n",
    "        total = 0\n",
    "        correct = 0\n",
    "        with torch.no_grad():\n",
    "            model.eval()\n",
    "            for imgs1, label in val_loader:\n",
    "                outputs1 = model(imgs1)\n",
    "                #print(outputs1)\n",
    "                _, pred = torch.max(outputs1, dim=1)\n",
    "                total += label.shape[0]\n",
    "                correct += (pred == label).sum()\n",
    "                val_loss += loss_fn(outputs1, label)\n",
    "                val_errors.append(val_loss)\n",
    "        #print(\"Validation accuracy: \", 100*correct/total)\n",
    "        \n",
    "        if epoch == 1 or epoch % 10 == 0:\n",
    "              print('{} Epoch {}, Training loss {}, Training accuracy {} Validation accuracy {}'.format(datetime.datetime.now(), epoch, float(loss_train), float(100*correct_train/total_train), float(100*correct/total)))"
   ]
  },
  {
   "cell_type": "code",
   "execution_count": 19,
   "metadata": {},
   "outputs": [
    {
     "name": "stdout",
     "output_type": "stream",
     "text": [
      "Data placed in GPU memory\n",
      "Data placed in GPU memory\n"
     ]
    }
   ],
   "source": [
    "train_dataset = my_dataset(X_train_t, y_train_t, transform=train_transform)\n",
    "\n",
    "val_dataset = my_dataset(X_val_t, y_val_t, transform=val_transform)\n"
   ]
  },
  {
   "cell_type": "code",
   "execution_count": 20,
   "metadata": {},
   "outputs": [],
   "source": [
    "#taken from Haotians Lenet code, cite this if submitting it\n",
    "def init_weights(m):\n",
    "    if type(m) == nn.Conv2d:\n",
    "        nn.init.orthogonal_(m.weight)\n",
    "    if type(m) == nn.Linear:\n",
    "        nn.init.orthogonal_(m.weight)"
   ]
  },
  {
   "cell_type": "code",
   "execution_count": 21,
   "metadata": {},
   "outputs": [
    {
     "name": "stdout",
     "output_type": "stream",
     "text": [
      "model device: cuda\n"
     ]
    },
    {
     "data": {
      "text/plain": [
       "211839"
      ]
     },
     "execution_count": 21,
     "metadata": {},
     "output_type": "execute_result"
    }
   ],
   "source": [
    "batch_size = 128\n",
    "train_loader = torch.utils.data.DataLoader(train_dataset, batch_size=batch_size, shuffle=True)\n",
    "val_loader = torch.utils.data.DataLoader(val_dataset, batch_size=batch_size, shuffle=False)\n",
    "model = baseline_net_bn()\n",
    "optimizer = optim.Adam(model.parameters(), lr=1e-3)\n",
    "loss_fn = nn.CrossEntropyLoss()\n",
    "sum(p.numel() for p in model.parameters())"
   ]
  },
  {
   "cell_type": "code",
   "execution_count": 22,
   "metadata": {},
   "outputs": [
    {
     "data": {
      "text/plain": [
       "baseline_net_bn(\n",
       "  (conv1): Conv2d(1, 10, kernel_size=(3, 3), stride=(1, 1), padding=(1, 1))\n",
       "  (bn1): BatchNorm2d(10, eps=1e-05, momentum=0.1, affine=True, track_running_stats=True)\n",
       "  (conv2): Conv2d(10, 32, kernel_size=(3, 3), stride=(1, 1), padding=(1, 1))\n",
       "  (bn2): BatchNorm2d(32, eps=1e-05, momentum=0.1, affine=True, track_running_stats=True)\n",
       "  (conv3): Conv2d(32, 64, kernel_size=(3, 3), stride=(1, 1), padding=(1, 1))\n",
       "  (bn3): BatchNorm2d(64, eps=1e-05, momentum=0.1, affine=True, track_running_stats=True)\n",
       "  (conv4): Conv2d(64, 128, kernel_size=(3, 3), stride=(1, 1), padding=(1, 1))\n",
       "  (bn4): BatchNorm2d(128, eps=1e-05, momentum=0.1, affine=True, track_running_stats=True)\n",
       "  (fc1): Linear(in_features=1152, out_features=100, bias=True)\n",
       "  (fc2): Linear(in_features=100, out_features=7, bias=True)\n",
       ")"
      ]
     },
     "execution_count": 22,
     "metadata": {},
     "output_type": "execute_result"
    }
   ],
   "source": [
    "model.apply(init_weights) #initialize weights to have orthogonal projection"
   ]
  },
  {
   "cell_type": "code",
   "execution_count": 23,
   "metadata": {},
   "outputs": [
    {
     "name": "stdout",
     "output_type": "stream",
     "text": [
      "2021-04-21 11:30:03.361785 Epoch 1, Training loss 334.8934953212738, Training accuracy 26.163625717163086 Validation accuracy 31.34796142578125\n",
      "2021-04-21 11:32:00.312691 Epoch 10, Training loss 115.4477832019329, Training accuracy 76.66216278076172 Validation accuracy 54.022987365722656\n",
      "2021-04-21 11:34:11.071577 Epoch 20, Training loss 26.107586156576872, Training accuracy 95.03199768066406 Validation accuracy 54.26680374145508\n"
     ]
    }
   ],
   "source": [
    "training_loop(\n",
    "    n_epochs = 20, \n",
    "    optimizer = optimizer,\n",
    "    model = model,\n",
    "    loss_fn = loss_fn,\n",
    "    train_loader = train_loader,\n",
    "    val_loader = val_loader)"
   ]
  },
  {
   "cell_type": "code",
   "execution_count": 25,
   "metadata": {},
   "outputs": [
    {
     "name": "stdout",
     "output_type": "stream",
     "text": [
      "Data placed in GPU memory\n",
      "2021-04-21 11:35:52.472308 Epoch 1, Training loss 27.210413344204426, Training accuracy 94.81864929199219 Validation accuracy 52.17694091796875\n",
      "2021-04-21 11:37:47.618337 Epoch 10, Training loss 14.955113135278225, Training accuracy 97.31352996826172 Validation accuracy 53.74433898925781\n",
      "2021-04-21 11:39:57.173332 Epoch 20, Training loss 11.369155581342056, Training accuracy 97.97534942626953 Validation accuracy 53.06513214111328\n"
     ]
    }
   ],
   "source": [
    "val_dataset_test = my_dataset(X_val_t, y_val_t, transform=val_transform_test)\n",
    "val_loader_test = torch.utils.data.DataLoader(val_dataset_test, batch_size=batch_size, shuffle=False)\n",
    "\n",
    "training_loop(\n",
    "    n_epochs = 20, \n",
    "    optimizer = optimizer,\n",
    "    model = model,\n",
    "    loss_fn = loss_fn,\n",
    "    train_loader = train_loader,\n",
    "    val_loader = val_loader_test)"
   ]
  },
  {
   "cell_type": "code",
   "execution_count": null,
   "metadata": {},
   "outputs": [],
   "source": []
  },
  {
   "cell_type": "code",
   "execution_count": null,
   "metadata": {},
   "outputs": [],
   "source": []
  },
  {
   "cell_type": "code",
   "execution_count": null,
   "metadata": {},
   "outputs": [],
   "source": []
  },
  {
   "cell_type": "code",
   "execution_count": null,
   "metadata": {},
   "outputs": [],
   "source": []
  }
 ],
 "metadata": {
  "kernelspec": {
   "display_name": "Python 3",
   "language": "python",
   "name": "python3"
  },
  "language_info": {
   "codemirror_mode": {
    "name": "ipython",
    "version": 3
   },
   "file_extension": ".py",
   "mimetype": "text/x-python",
   "name": "python",
   "nbconvert_exporter": "python",
   "pygments_lexer": "ipython3",
   "version": "3.8.5"
  }
 },
 "nbformat": 4,
 "nbformat_minor": 4
}
